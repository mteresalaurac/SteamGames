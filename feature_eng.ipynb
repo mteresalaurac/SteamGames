{
 "cells": [
  {
   "cell_type": "code",
   "execution_count": 12,
   "metadata": {},
   "outputs": [
    {
     "name": "stderr",
     "output_type": "stream",
     "text": [
      "[nltk_data] Downloading package vader_lexicon to\n",
      "[nltk_data]     /Users/teresalaura/nltk_data...\n",
      "[nltk_data]   Package vader_lexicon is already up-to-date!\n",
      "[nltk_data] Downloading package punkt to\n",
      "[nltk_data]     /Users/teresalaura/nltk_data...\n",
      "[nltk_data]   Package punkt is already up-to-date!\n",
      "[nltk_data] Downloading package stopwords to\n",
      "[nltk_data]     /Users/teresalaura/nltk_data...\n",
      "[nltk_data]   Package stopwords is already up-to-date!\n"
     ]
    },
    {
     "name": "stdout",
     "output_type": "stream",
     "text": [
      "<class 'pandas.core.frame.DataFrame'>\n",
      "RangeIndex: 58459 entries, 0 to 58458\n",
      "Data columns (total 5 columns):\n",
      " #   Column         Non-Null Count  Dtype  \n",
      "---  ------         --------------  -----  \n",
      " 0   user_id        58459 non-null  object \n",
      " 1   posted         48498 non-null  float64\n",
      " 2   item_id        58431 non-null  object \n",
      " 3   review         58431 non-null  object \n",
      " 4   sent_analisis  58459 non-null  object \n",
      "dtypes: float64(1), object(4)\n",
      "memory usage: 2.2+ MB\n"
     ]
    }
   ],
   "source": [
    "#https://www.nltk.org/_modules/nltk/sentiment/vader.html\n",
    "\n",
    "import pandas as pd\n",
    "import nltk as nltk\n",
    "\n",
    "import ssl\n",
    "# Desactiva la verificación SSL > tengo que hacer esto para poder realizar las descargas necesarias\n",
    "ssl._create_default_https_context = ssl._create_unverified_context\n",
    "nltk.download('vader_lexicon')\n",
    "nltk.download('punkt')\n",
    "nltk.download('stopwords')\n",
    "\n",
    "#SentimentIntensityAnalyzer es una clase proporcionada por la librería NLTK para realizar análisis de sentimientos.\n",
    "from nltk.sentiment.vader import SentimentIntensityAnalyzer\n",
    "from nltk import tokenize\n",
    "\n",
    "df_reviews = pd.read_parquet(\"Archivos_Comprimidos/reviews_final.parquet\")\n",
    "df_reviews.head(6)\n",
    "\n",
    "#Me quedo con la data de reviews, y convierte todo strings\n",
    "reviews=df_reviews[\"review\"].astype(str)\n",
    "\n",
    "#Creo una lista con las reviews\n",
    "lista_reviews= list(reviews)   #Genero lista a partir de la columna reviews\n",
    "lista_reviews[10] #compruebo lista\n",
    "\n",
    "#Realizo el analisis de sentimientos  con SentimentIntensityAnalyzer()\n",
    "\n",
    "clasificacion = []    #Lista donde se van a almacenar los resultados del analisis de sentimientos \n",
    "\n",
    "#Se instancia al objeto de SentimentIntensityAnalyzer() de la librería NLTK, que se utilizará para realizar el análisis de sentimientos\n",
    "analisis_sentim = SentimentIntensityAnalyzer()   \n",
    "\n",
    "# Clasificación para cada frase en la lista de reviews \"Positivo/Neutral/Negativo\"\n",
    "for review in lista_reviews:\n",
    "    \n",
    "    # polarity_scores() devuelve un diccionario que contiene varios puntajes relacionados con la polaridad de la review\n",
    "    score = analisis_sentim.polarity_scores(review) \n",
    "    #print(score)\n",
    "    #La columna de compound me va a asignar un resumen general de la puntuación\n",
    "    if score['compound'] > 0:\n",
    "        clasificacion.append('Positivo')\n",
    "    elif score['compound'] == 0:\n",
    "        clasificacion.append('Neutral')\n",
    "    else:\n",
    "        clasificacion.append('Negativo')\n",
    "\n",
    "#Clasificacion ahora es una lista que tiene todas las clasificaciones de las reviews.\n",
    "clasificacion[1000]\n",
    "\n",
    "\n",
    "#Convierte la lista en un df para agregarlo luego y asociar a cada review con su puntaje\n",
    "sentimientos= pd.Series(clasificacion)\n",
    "sentimientos.value_counts()\n",
    "# Asigna la lista de clasificación a la nueva columna en el DataFrame 'df_reviews': Col sent_analisis\n",
    "df_reviews[\"sent_analisis\"]=sentimientos\n",
    "\n",
    "df_reviews.sent_analisis.value_counts()\n",
    "df_reviews.review.value_counts()\n",
    "df_reviews.info()\n",
    "df_reviews.head(5)\n",
    "\n",
    "\n",
    "#Elimino la columna que tiene las reviews dado que no voy a necesitarlas.\n",
    "df_reviews.drop(columns=['review'], inplace=True)\n",
    "df_reviews.head(5)\n",
    "\n",
    "#Paso el archivo a un parquet\n",
    "df_reviews.to_parquet(\"Archivos_Comprimidos/reviews_con_sentimientos\",index=False)\n",
    "\n"
   ]
  }
 ],
 "metadata": {
  "kernelspec": {
   "display_name": "Python 3",
   "language": "python",
   "name": "python3"
  },
  "language_info": {
   "codemirror_mode": {
    "name": "ipython",
    "version": 3
   },
   "file_extension": ".py",
   "mimetype": "text/x-python",
   "name": "python",
   "nbconvert_exporter": "python",
   "pygments_lexer": "ipython3",
   "version": "3.11.2"
  },
  "orig_nbformat": 4
 },
 "nbformat": 4,
 "nbformat_minor": 2
}
