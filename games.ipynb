{
 "cells": [
  {
   "cell_type": "code",
   "execution_count": 1,
   "metadata": {},
   "outputs": [
    {
     "name": "stdout",
     "output_type": "stream",
     "text": [
      "<class 'pandas.core.frame.DataFrame'>\n",
      "RangeIndex: 120445 entries, 0 to 120444\n",
      "Data columns (total 13 columns):\n",
      " #   Column        Non-Null Count  Dtype \n",
      "---  ------        --------------  ----- \n",
      " 0   publisher     24083 non-null  object\n",
      " 1   genres        28852 non-null  object\n",
      " 2   app_name      32133 non-null  object\n",
      " 3   title         30085 non-null  object\n",
      " 4   url           32135 non-null  object\n",
      " 5   release_date  30068 non-null  object\n",
      " 6   tags          31972 non-null  object\n",
      " 7   reviews_url   32133 non-null  object\n",
      " 8   specs         31465 non-null  object\n",
      " 9   price         30758 non-null  object\n",
      " 10  early_access  32135 non-null  object\n",
      " 11  id            32133 non-null  object\n",
      " 12  developer     28836 non-null  object\n",
      "dtypes: object(13)\n",
      "memory usage: 11.9+ MB\n",
      "None\n"
     ]
    }
   ],
   "source": [
    "import json\n",
    "import ast\n",
    "import gzip\n",
    "import pandas as pd\n",
    "\n",
    "\n",
    "#Abro el archivo de STEAM GAMES\n",
    "data = []\n",
    "with gzip.open('Archivos_Originales/steam_games.json.gz','rb') as f:\n",
    "    for line in f:\n",
    "        data.append(json.loads(line))\n",
    "f.close()\n",
    "games=pd.DataFrame(data)\n",
    "\n",
    "#Veo info del df\n",
    "print(games.info())\n"
   ]
  },
  {
   "cell_type": "code",
   "execution_count": 2,
   "metadata": {},
   "outputs": [
    {
     "name": "stdout",
     "output_type": "stream",
     "text": [
      "Dimensiones del dataframe de games: (120445, 13)\n"
     ]
    }
   ],
   "source": [
    "#Dimensiones del dataframe: cant. de filas y cant. de  columnas\n",
    "print(f\"Dimensiones del dataframe de games: {games.shape}\") "
   ]
  },
  {
   "cell_type": "code",
   "execution_count": 3,
   "metadata": {},
   "outputs": [
    {
     "name": "stdout",
     "output_type": "stream",
     "text": [
      "Index(['publisher', 'genres', 'app_name', 'title', 'url', 'release_date',\n",
      "       'tags', 'reviews_url', 'specs', 'price', 'early_access', 'id',\n",
      "       'developer'],\n",
      "      dtype='object')\n"
     ]
    }
   ],
   "source": [
    "#Columnas del data frame en una lista\n",
    "print(games.columns)"
   ]
  },
  {
   "cell_type": "code",
   "execution_count": 4,
   "metadata": {},
   "outputs": [
    {
     "name": "stdout",
     "output_type": "stream",
     "text": [
      "La cantidad de nulos para cada columna es: \n",
      "publisher       96362\n",
      "genres          91593\n",
      "app_name        88312\n",
      "title           90360\n",
      "url             88310\n",
      "release_date    90377\n",
      "tags            88473\n",
      "reviews_url     88312\n",
      "specs           88980\n",
      "price           89687\n",
      "early_access    88310\n",
      "id              88312\n",
      "developer       91609\n",
      "dtype: int64\n"
     ]
    }
   ],
   "source": [
    "#Cant. de nulos por columna: numero total de faltantes por columna\n",
    "print(f\"La cantidad de nulos para cada columna es: \\n{games.isna().sum()}\") "
   ]
  },
  {
   "cell_type": "code",
   "execution_count": 5,
   "metadata": {},
   "outputs": [
    {
     "name": "stdout",
     "output_type": "stream",
     "text": [
      "El promedio de la cantidad de nulos es: \n",
      "publisher       0.800050\n",
      "genres          0.760455\n",
      "app_name        0.733214\n",
      "title           0.750218\n",
      "url             0.733198\n",
      "release_date    0.750359\n",
      "tags            0.734551\n",
      "reviews_url     0.733214\n",
      "specs           0.738760\n",
      "price           0.744630\n",
      "early_access    0.733198\n",
      "id              0.733214\n",
      "developer       0.760588\n",
      "dtype: float64\n"
     ]
    }
   ],
   "source": [
    "#Promedio de la cantidad de nulos por columna\n",
    "print(f\"El promedio de la cantidad de nulos es: \\n{games.isna().mean()}\") "
   ]
  },
  {
   "cell_type": "code",
   "execution_count": 6,
   "metadata": {},
   "outputs": [
    {
     "name": "stdout",
     "output_type": "stream",
     "text": [
      "  publisher genres app_name title  url release_date tags reviews_url specs  \\\n",
      "0       NaN    NaN      NaN   NaN  NaN          NaN  NaN         NaN   NaN   \n",
      "1       NaN    NaN      NaN   NaN  NaN          NaN  NaN         NaN   NaN   \n",
      "2       NaN    NaN      NaN   NaN  NaN          NaN  NaN         NaN   NaN   \n",
      "3       NaN    NaN      NaN   NaN  NaN          NaN  NaN         NaN   NaN   \n",
      "4       NaN    NaN      NaN   NaN  NaN          NaN  NaN         NaN   NaN   \n",
      "5       NaN    NaN      NaN   NaN  NaN          NaN  NaN         NaN   NaN   \n",
      "6       NaN    NaN      NaN   NaN  NaN          NaN  NaN         NaN   NaN   \n",
      "7       NaN    NaN      NaN   NaN  NaN          NaN  NaN         NaN   NaN   \n",
      "8       NaN    NaN      NaN   NaN  NaN          NaN  NaN         NaN   NaN   \n",
      "9       NaN    NaN      NaN   NaN  NaN          NaN  NaN         NaN   NaN   \n",
      "\n",
      "  price early_access   id developer  \n",
      "0   NaN          NaN  NaN       NaN  \n",
      "1   NaN          NaN  NaN       NaN  \n",
      "2   NaN          NaN  NaN       NaN  \n",
      "3   NaN          NaN  NaN       NaN  \n",
      "4   NaN          NaN  NaN       NaN  \n",
      "5   NaN          NaN  NaN       NaN  \n",
      "6   NaN          NaN  NaN       NaN  \n",
      "7   NaN          NaN  NaN       NaN  \n",
      "8   NaN          NaN  NaN       NaN  \n",
      "9   NaN          NaN  NaN       NaN  \n"
     ]
    }
   ],
   "source": [
    "#Imprimo las primeras 10 filas\n",
    "print(games.head(10))"
   ]
  },
  {
   "cell_type": "code",
   "execution_count": 7,
   "metadata": {},
   "outputs": [
    {
     "name": "stdout",
     "output_type": "stream",
     "text": [
      "                 publisher                                 genres  \\\n",
      "120435  Retro Army Limited             [Action, Adventure, Indie]   \n",
      "120436  OrtiGames/OrtiSoft                        [Casual, Indie]   \n",
      "120437              INGAME                           [Indie, RPG]   \n",
      "120438            Riviysky                        [Casual, Indie]   \n",
      "120439     Bidoniera Games     [Action, Adventure, Casual, Indie]   \n",
      "120440     Ghost_RUS Games  [Casual, Indie, Simulation, Strategy]   \n",
      "120441              Sacada              [Casual, Indie, Strategy]   \n",
      "120442        Laush Studio            [Indie, Racing, Simulation]   \n",
      "120443            SIXNAILS                        [Casual, Indie]   \n",
      "120444                 NaN                                    NaN   \n",
      "\n",
      "                        app_name                     title  \\\n",
      "120435      The spy who shot me™      The spy who shot me™   \n",
      "120436            Raining blocks            Raining blocks   \n",
      "120437                   Bravium                   Bravium   \n",
      "120438                     BAE 2                     BAE 2   \n",
      "120439              Kebab it Up!              Kebab it Up!   \n",
      "120440            Colony On Mars            Colony On Mars   \n",
      "120441  LOGistICAL: South Africa  LOGistICAL: South Africa   \n",
      "120442             Russian Roads             Russian Roads   \n",
      "120443       EXIT 2 - Directions       EXIT 2 - Directions   \n",
      "120444               Maze Run VR                       NaN   \n",
      "\n",
      "                                                      url release_date  \\\n",
      "120435  http://store.steampowered.com/app/771810/The_s...   2018-10-01   \n",
      "120436  http://store.steampowered.com/app/767590/Raini...   2018-01-04   \n",
      "120437  http://store.steampowered.com/app/747320/Bravium/   2018-01-04   \n",
      "120438    http://store.steampowered.com/app/769330/BAE_2/   2018-01-04   \n",
      "120439  http://store.steampowered.com/app/745400/Kebab...   2018-01-04   \n",
      "120440  http://store.steampowered.com/app/773640/Colon...   2018-01-04   \n",
      "120441  http://store.steampowered.com/app/733530/LOGis...   2018-01-04   \n",
      "120442  http://store.steampowered.com/app/610660/Russi...   2018-01-04   \n",
      "120443  http://store.steampowered.com/app/658870/EXIT_...   2017-09-02   \n",
      "120444  http://store.steampowered.com/app/681550/Maze_...          NaN   \n",
      "\n",
      "                                                     tags  \\\n",
      "120435                         [Action, Adventure, Indie]   \n",
      "120436                                    [Indie, Casual]   \n",
      "120437                [Indie, RPG, Puzzle, Tower Defense]   \n",
      "120438                                    [Indie, Casual]   \n",
      "120439        [Action, Indie, Casual, Violent, Adventure]   \n",
      "120440              [Strategy, Indie, Casual, Simulation]   \n",
      "120441                          [Strategy, Indie, Casual]   \n",
      "120442                        [Indie, Simulation, Racing]   \n",
      "120443  [Indie, Casual, Puzzle, Singleplayer, Atmosphe...   \n",
      "120444  [Early Access, Adventure, Indie, Action, Simul...   \n",
      "\n",
      "                                              reviews_url  \\\n",
      "120435  http://steamcommunity.com/app/771810/reviews/?...   \n",
      "120436  http://steamcommunity.com/app/767590/reviews/?...   \n",
      "120437  http://steamcommunity.com/app/747320/reviews/?...   \n",
      "120438  http://steamcommunity.com/app/769330/reviews/?...   \n",
      "120439  http://steamcommunity.com/app/745400/reviews/?...   \n",
      "120440  http://steamcommunity.com/app/773640/reviews/?...   \n",
      "120441  http://steamcommunity.com/app/733530/reviews/?...   \n",
      "120442  http://steamcommunity.com/app/610660/reviews/?...   \n",
      "120443  http://steamcommunity.com/app/658870/reviews/?...   \n",
      "120444  http://steamcommunity.com/app/681550/reviews/?...   \n",
      "\n",
      "                                                    specs  price early_access  \\\n",
      "120435                [Single-player, Captions available]    NaN        False   \n",
      "120436  [Single-player, Shared/Split Screen, Steam Ach...   0.99        False   \n",
      "120437  [Single-player, Steam Achievements, Steam Lead...  14.99        False   \n",
      "120438                                    [Single-player]    NaN        False   \n",
      "120439   [Single-player, Steam Achievements, Steam Cloud]   1.99        False   \n",
      "120440                [Single-player, Steam Achievements]   1.99        False   \n",
      "120441  [Single-player, Steam Achievements, Steam Clou...   4.99        False   \n",
      "120442  [Single-player, Steam Achievements, Steam Trad...   1.99        False   \n",
      "120443   [Single-player, Steam Achievements, Steam Cloud]   4.99        False   \n",
      "120444  [Single-player, Stats, Steam Leaderboards, HTC...   4.99         True   \n",
      "\n",
      "            id                                  developer  \n",
      "120435  771810                         Retro Army Limited  \n",
      "120436  767590  Oscar Ortigueira López,OrtiGames/OrtiSoft  \n",
      "120437  747320                                     INGAME  \n",
      "120438  769330                                   Riviysky  \n",
      "120439  745400                            Bidoniera Games  \n",
      "120440  773640                         Nikita \"Ghost_RUS\"  \n",
      "120441  733530                                     Sacada  \n",
      "120442  610660                   Laush Dmitriy Sergeevich  \n",
      "120443  658870                              xropi,stev3ns  \n",
      "120444  681550                                        NaN  \n"
     ]
    }
   ],
   "source": [
    "#Imprimo las últimas 10 filas\n",
    "print(games.tail(10))"
   ]
  },
  {
   "cell_type": "code",
   "execution_count": 8,
   "metadata": {},
   "outputs": [
    {
     "name": "stdout",
     "output_type": "stream",
     "text": [
      "       publisher    genres    app_name       title  \\\n",
      "count      24083     28852       32133       30085   \n",
      "unique      8239       883       32094       30054   \n",
      "top      Ubisoft  [Action]  Soundtrack  Soundtrack   \n",
      "freq         385      1880           3           3   \n",
      "\n",
      "                                                      url release_date  \\\n",
      "count                                               32135        30068   \n",
      "unique                                              32135         3582   \n",
      "top     http://store.steampowered.com/app/761140/Lost_...   2012-10-16   \n",
      "freq                                                    1          100   \n",
      "\n",
      "                        tags  \\\n",
      "count                  31972   \n",
      "unique                 15395   \n",
      "top     [Casual, Simulation]   \n",
      "freq                    1292   \n",
      "\n",
      "                                              reviews_url            specs  \\\n",
      "count                                               32133            31465   \n",
      "unique                                              32132             4649   \n",
      "top     http://steamcommunity.com/app/612880/reviews/?...  [Single-player]   \n",
      "freq                                                    2             2794   \n",
      "\n",
      "           price early_access      id                developer  \n",
      "count   30758.00        32135   32133                    28836  \n",
      "unique    162.00            2   32132                    10992  \n",
      "top         4.99        False  612880  Ubisoft - San Francisco  \n",
      "freq     4278.00        30188       2                     1259  \n"
     ]
    }
   ],
   "source": [
    "#Devuelve descripción\n",
    "print(games.describe())"
   ]
  },
  {
   "cell_type": "code",
   "execution_count": 9,
   "metadata": {},
   "outputs": [
    {
     "name": "stdout",
     "output_type": "stream",
     "text": [
      "(32135, 13)\n"
     ]
    }
   ],
   "source": [
    "#Voy a eliminar las filas con nulos. Con la especificación how=\"all\" voy a indicarle que quiero que elimine las filas donde TODOS los elementos son nulos.\n",
    "games=games.dropna(how=\"all\")\n",
    "\n",
    "print(games.shape)"
   ]
  },
  {
   "cell_type": "code",
   "execution_count": 10,
   "metadata": {},
   "outputs": [
    {
     "name": "stdout",
     "output_type": "stream",
     "text": [
      "El promedio de la cantidad de nulos es: \n",
      "publisher       0.250568\n",
      "genres          0.102163\n",
      "app_name        0.000062\n",
      "title           0.063793\n",
      "url             0.000000\n",
      "release_date    0.064322\n",
      "tags            0.005072\n",
      "reviews_url     0.000062\n",
      "specs           0.020850\n",
      "price           0.042850\n",
      "early_access    0.000000\n",
      "id              0.000062\n",
      "developer       0.102661\n",
      "dtype: float64\n"
     ]
    }
   ],
   "source": [
    "#Hago check de nulos. Veo que el porcentaje disminuyó en gran proporción\n",
    "\n",
    "print(f\"El promedio de la cantidad de nulos es: \\n{games.isna().mean()}\") \n"
   ]
  },
  {
   "cell_type": "code",
   "execution_count": 11,
   "metadata": {},
   "outputs": [
    {
     "name": "stdout",
     "output_type": "stream",
     "text": [
      "2\n"
     ]
    }
   ],
   "source": [
    "#Hay solo un id duplicado, no aplica\n",
    "duplicados= games['id'].duplicated()\n",
    "print(duplicados.sum())\n",
    "#print(games_sin_duplic)"
   ]
  },
  {
   "cell_type": "code",
   "execution_count": 12,
   "metadata": {},
   "outputs": [
    {
     "data": {
      "text/html": [
       "<div>\n",
       "<style scoped>\n",
       "    .dataframe tbody tr th:only-of-type {\n",
       "        vertical-align: middle;\n",
       "    }\n",
       "\n",
       "    .dataframe tbody tr th {\n",
       "        vertical-align: top;\n",
       "    }\n",
       "\n",
       "    .dataframe thead th {\n",
       "        text-align: right;\n",
       "    }\n",
       "</style>\n",
       "<table border=\"1\" class=\"dataframe\">\n",
       "  <thead>\n",
       "    <tr style=\"text-align: right;\">\n",
       "      <th></th>\n",
       "      <th>genres</th>\n",
       "      <th>app_name</th>\n",
       "      <th>release_date</th>\n",
       "      <th>price</th>\n",
       "      <th>id</th>\n",
       "    </tr>\n",
       "  </thead>\n",
       "  <tbody>\n",
       "    <tr>\n",
       "      <th>88310</th>\n",
       "      <td>[Action, Casual, Indie, Simulation, Strategy]</td>\n",
       "      <td>Lost Summoner Kitty</td>\n",
       "      <td>2018-01-04</td>\n",
       "      <td>4.99</td>\n",
       "      <td>761140</td>\n",
       "    </tr>\n",
       "    <tr>\n",
       "      <th>88311</th>\n",
       "      <td>[Free to Play, Indie, RPG, Strategy]</td>\n",
       "      <td>Ironbound</td>\n",
       "      <td>2018-01-04</td>\n",
       "      <td>Free To Play</td>\n",
       "      <td>643980</td>\n",
       "    </tr>\n",
       "    <tr>\n",
       "      <th>88312</th>\n",
       "      <td>[Casual, Free to Play, Indie, Simulation, Sports]</td>\n",
       "      <td>Real Pool 3D - Poolians</td>\n",
       "      <td>2017-07-24</td>\n",
       "      <td>Free to Play</td>\n",
       "      <td>670290</td>\n",
       "    </tr>\n",
       "    <tr>\n",
       "      <th>88313</th>\n",
       "      <td>[Action, Adventure, Casual]</td>\n",
       "      <td>弹炸人2222</td>\n",
       "      <td>2017-12-07</td>\n",
       "      <td>0.99</td>\n",
       "      <td>767400</td>\n",
       "    </tr>\n",
       "    <tr>\n",
       "      <th>88314</th>\n",
       "      <td>NaN</td>\n",
       "      <td>Log Challenge</td>\n",
       "      <td>NaN</td>\n",
       "      <td>2.99</td>\n",
       "      <td>773570</td>\n",
       "    </tr>\n",
       "  </tbody>\n",
       "</table>\n",
       "</div>"
      ],
      "text/plain": [
       "                                                  genres  \\\n",
       "88310      [Action, Casual, Indie, Simulation, Strategy]   \n",
       "88311               [Free to Play, Indie, RPG, Strategy]   \n",
       "88312  [Casual, Free to Play, Indie, Simulation, Sports]   \n",
       "88313                        [Action, Adventure, Casual]   \n",
       "88314                                                NaN   \n",
       "\n",
       "                      app_name release_date         price      id  \n",
       "88310      Lost Summoner Kitty   2018-01-04          4.99  761140  \n",
       "88311                Ironbound   2018-01-04  Free To Play  643980  \n",
       "88312  Real Pool 3D - Poolians   2017-07-24  Free to Play  670290  \n",
       "88313                  弹炸人2222   2017-12-07          0.99  767400  \n",
       "88314            Log Challenge          NaN          2.99  773570  "
      ]
     },
     "execution_count": 12,
     "metadata": {},
     "output_type": "execute_result"
    }
   ],
   "source": [
    "#Elimino las columnas que no voy a utlizar para ocupar menos espacio. \n",
    "\n",
    "games_final= games.drop(columns=[\"publisher\",\"title\",\"url\",\"reviews_url\",\"tags\",\"specs\",\"early_access\",\"developer\"])\n",
    "games_final.head(5)\n"
   ]
  },
  {
   "cell_type": "code",
   "execution_count": 13,
   "metadata": {},
   "outputs": [
    {
     "name": "stdout",
     "output_type": "stream",
     "text": [
      "Dimensiones del dataframe de games: (32135, 5)\n"
     ]
    }
   ],
   "source": [
    "print(f\"Dimensiones del dataframe de games: {games_final.shape}\") "
   ]
  },
  {
   "cell_type": "code",
   "execution_count": 14,
   "metadata": {},
   "outputs": [],
   "source": [
    "#Convierto release_date a formato de fecha correcto, asi despues trabajo OK con esto\n",
    "\n",
    "games_final['release_date'] = pd.to_datetime(games_final['release_date'], errors='coerce') #Si hay valores erroneos, los convierto en NaT\n",
    "#games_final.shape"
   ]
  },
  {
   "cell_type": "code",
   "execution_count": 15,
   "metadata": {},
   "outputs": [
    {
     "name": "stdout",
     "output_type": "stream",
     "text": [
      "2067\n"
     ]
    }
   ],
   "source": [
    "#Me fijo la cantidad de fechas que no tienen valores correctos\n",
    "cantidad_nulos = games['release_date'].isna().sum()\n",
    "print(cantidad_nulos)"
   ]
  },
  {
   "cell_type": "code",
   "execution_count": 16,
   "metadata": {},
   "outputs": [
    {
     "data": {
      "text/html": [
       "<div>\n",
       "<style scoped>\n",
       "    .dataframe tbody tr th:only-of-type {\n",
       "        vertical-align: middle;\n",
       "    }\n",
       "\n",
       "    .dataframe tbody tr th {\n",
       "        vertical-align: top;\n",
       "    }\n",
       "\n",
       "    .dataframe thead th {\n",
       "        text-align: right;\n",
       "    }\n",
       "</style>\n",
       "<table border=\"1\" class=\"dataframe\">\n",
       "  <thead>\n",
       "    <tr style=\"text-align: right;\">\n",
       "      <th></th>\n",
       "      <th>genres</th>\n",
       "      <th>app_name</th>\n",
       "      <th>release_date</th>\n",
       "      <th>price</th>\n",
       "      <th>id</th>\n",
       "    </tr>\n",
       "  </thead>\n",
       "  <tbody>\n",
       "    <tr>\n",
       "      <th>88310</th>\n",
       "      <td>[Action, Casual, Indie, Simulation, Strategy]</td>\n",
       "      <td>Lost Summoner Kitty</td>\n",
       "      <td>2018.0</td>\n",
       "      <td>4.99</td>\n",
       "      <td>761140</td>\n",
       "    </tr>\n",
       "    <tr>\n",
       "      <th>88311</th>\n",
       "      <td>[Free to Play, Indie, RPG, Strategy]</td>\n",
       "      <td>Ironbound</td>\n",
       "      <td>2018.0</td>\n",
       "      <td>Free To Play</td>\n",
       "      <td>643980</td>\n",
       "    </tr>\n",
       "  </tbody>\n",
       "</table>\n",
       "</div>"
      ],
      "text/plain": [
       "                                              genres             app_name  \\\n",
       "88310  [Action, Casual, Indie, Simulation, Strategy]  Lost Summoner Kitty   \n",
       "88311           [Free to Play, Indie, RPG, Strategy]            Ironbound   \n",
       "\n",
       "       release_date         price      id  \n",
       "88310        2018.0          4.99  761140  \n",
       "88311        2018.0  Free To Play  643980  "
      ]
     },
     "execution_count": 16,
     "metadata": {},
     "output_type": "execute_result"
    }
   ],
   "source": [
    "\n",
    "# Reemplaza las fechas existentes por el año, dado que es el valor que voy a necesitar\n",
    "games_final['release_date'] = games_final['release_date'].dt.year\n",
    "\n",
    "games_final.head(2)"
   ]
  },
  {
   "cell_type": "code",
   "execution_count": 17,
   "metadata": {},
   "outputs": [],
   "source": [
    "#Elimino los valores que no tienen fecha, dado que no me van a servir para las funciones\n",
    "games_final.dropna(subset=['release_date'], inplace=True)\n"
   ]
  },
  {
   "cell_type": "code",
   "execution_count": 18,
   "metadata": {},
   "outputs": [
    {
     "name": "stdout",
     "output_type": "stream",
     "text": [
      "int64\n"
     ]
    }
   ],
   "source": [
    "\n",
    "#Como el dato del año se guardó como un tipo \"float\", lo convierto en un num entero. \n",
    "games_final[\"release_date\"] = games_final[\"release_date\"].astype(int)\n",
    "\n",
    "print(games_final[\"release_date\"].dtype)"
   ]
  },
  {
   "cell_type": "code",
   "execution_count": 19,
   "metadata": {},
   "outputs": [
    {
     "data": {
      "text/html": [
       "<div>\n",
       "<style scoped>\n",
       "    .dataframe tbody tr th:only-of-type {\n",
       "        vertical-align: middle;\n",
       "    }\n",
       "\n",
       "    .dataframe tbody tr th {\n",
       "        vertical-align: top;\n",
       "    }\n",
       "\n",
       "    .dataframe thead th {\n",
       "        text-align: right;\n",
       "    }\n",
       "</style>\n",
       "<table border=\"1\" class=\"dataframe\">\n",
       "  <thead>\n",
       "    <tr style=\"text-align: right;\">\n",
       "      <th></th>\n",
       "      <th>genres</th>\n",
       "      <th>app_name</th>\n",
       "      <th>date</th>\n",
       "      <th>price</th>\n",
       "      <th>id</th>\n",
       "    </tr>\n",
       "  </thead>\n",
       "  <tbody>\n",
       "    <tr>\n",
       "      <th>88310</th>\n",
       "      <td>[Action, Casual, Indie, Simulation, Strategy]</td>\n",
       "      <td>Lost Summoner Kitty</td>\n",
       "      <td>2018</td>\n",
       "      <td>4.99</td>\n",
       "      <td>761140</td>\n",
       "    </tr>\n",
       "    <tr>\n",
       "      <th>88311</th>\n",
       "      <td>[Free to Play, Indie, RPG, Strategy]</td>\n",
       "      <td>Ironbound</td>\n",
       "      <td>2018</td>\n",
       "      <td>Free To Play</td>\n",
       "      <td>643980</td>\n",
       "    </tr>\n",
       "    <tr>\n",
       "      <th>88312</th>\n",
       "      <td>[Casual, Free to Play, Indie, Simulation, Sports]</td>\n",
       "      <td>Real Pool 3D - Poolians</td>\n",
       "      <td>2017</td>\n",
       "      <td>Free to Play</td>\n",
       "      <td>670290</td>\n",
       "    </tr>\n",
       "    <tr>\n",
       "      <th>88313</th>\n",
       "      <td>[Action, Adventure, Casual]</td>\n",
       "      <td>弹炸人2222</td>\n",
       "      <td>2017</td>\n",
       "      <td>0.99</td>\n",
       "      <td>767400</td>\n",
       "    </tr>\n",
       "    <tr>\n",
       "      <th>88315</th>\n",
       "      <td>[Action, Adventure, Simulation]</td>\n",
       "      <td>Battle Royale Trainer</td>\n",
       "      <td>2018</td>\n",
       "      <td>3.99</td>\n",
       "      <td>772540</td>\n",
       "    </tr>\n",
       "  </tbody>\n",
       "</table>\n",
       "</div>"
      ],
      "text/plain": [
       "                                                  genres  \\\n",
       "88310      [Action, Casual, Indie, Simulation, Strategy]   \n",
       "88311               [Free to Play, Indie, RPG, Strategy]   \n",
       "88312  [Casual, Free to Play, Indie, Simulation, Sports]   \n",
       "88313                        [Action, Adventure, Casual]   \n",
       "88315                    [Action, Adventure, Simulation]   \n",
       "\n",
       "                      app_name  date         price      id  \n",
       "88310      Lost Summoner Kitty  2018          4.99  761140  \n",
       "88311                Ironbound  2018  Free To Play  643980  \n",
       "88312  Real Pool 3D - Poolians  2017  Free to Play  670290  \n",
       "88313                  弹炸人2222  2017          0.99  767400  \n",
       "88315    Battle Royale Trainer  2018          3.99  772540  "
      ]
     },
     "execution_count": 19,
     "metadata": {},
     "output_type": "execute_result"
    }
   ],
   "source": [
    "#Modifico el nombre de la columna con fechas para trabajar mas facil con la nomenclatura\n",
    "games_final.rename(columns={'release_date': 'date'}, inplace=True)\n",
    "\n",
    "games_final.head(5)"
   ]
  },
  {
   "cell_type": "code",
   "execution_count": 20,
   "metadata": {},
   "outputs": [
    {
     "data": {
      "text/html": [
       "<div>\n",
       "<style scoped>\n",
       "    .dataframe tbody tr th:only-of-type {\n",
       "        vertical-align: middle;\n",
       "    }\n",
       "\n",
       "    .dataframe tbody tr th {\n",
       "        vertical-align: top;\n",
       "    }\n",
       "\n",
       "    .dataframe thead th {\n",
       "        text-align: right;\n",
       "    }\n",
       "</style>\n",
       "<table border=\"1\" class=\"dataframe\">\n",
       "  <thead>\n",
       "    <tr style=\"text-align: right;\">\n",
       "      <th></th>\n",
       "      <th>genres</th>\n",
       "      <th>app_name</th>\n",
       "      <th>date</th>\n",
       "      <th>price</th>\n",
       "      <th>item_id</th>\n",
       "    </tr>\n",
       "  </thead>\n",
       "  <tbody>\n",
       "    <tr>\n",
       "      <th>88310</th>\n",
       "      <td>[Action, Casual, Indie, Simulation, Strategy]</td>\n",
       "      <td>Lost Summoner Kitty</td>\n",
       "      <td>2018</td>\n",
       "      <td>4.99</td>\n",
       "      <td>761140</td>\n",
       "    </tr>\n",
       "    <tr>\n",
       "      <th>88311</th>\n",
       "      <td>[Free to Play, Indie, RPG, Strategy]</td>\n",
       "      <td>Ironbound</td>\n",
       "      <td>2018</td>\n",
       "      <td>Free To Play</td>\n",
       "      <td>643980</td>\n",
       "    </tr>\n",
       "    <tr>\n",
       "      <th>88312</th>\n",
       "      <td>[Casual, Free to Play, Indie, Simulation, Sports]</td>\n",
       "      <td>Real Pool 3D - Poolians</td>\n",
       "      <td>2017</td>\n",
       "      <td>Free to Play</td>\n",
       "      <td>670290</td>\n",
       "    </tr>\n",
       "    <tr>\n",
       "      <th>88313</th>\n",
       "      <td>[Action, Adventure, Casual]</td>\n",
       "      <td>弹炸人2222</td>\n",
       "      <td>2017</td>\n",
       "      <td>0.99</td>\n",
       "      <td>767400</td>\n",
       "    </tr>\n",
       "    <tr>\n",
       "      <th>88315</th>\n",
       "      <td>[Action, Adventure, Simulation]</td>\n",
       "      <td>Battle Royale Trainer</td>\n",
       "      <td>2018</td>\n",
       "      <td>3.99</td>\n",
       "      <td>772540</td>\n",
       "    </tr>\n",
       "  </tbody>\n",
       "</table>\n",
       "</div>"
      ],
      "text/plain": [
       "                                                  genres  \\\n",
       "88310      [Action, Casual, Indie, Simulation, Strategy]   \n",
       "88311               [Free to Play, Indie, RPG, Strategy]   \n",
       "88312  [Casual, Free to Play, Indie, Simulation, Sports]   \n",
       "88313                        [Action, Adventure, Casual]   \n",
       "88315                    [Action, Adventure, Simulation]   \n",
       "\n",
       "                      app_name  date         price item_id  \n",
       "88310      Lost Summoner Kitty  2018          4.99  761140  \n",
       "88311                Ironbound  2018  Free To Play  643980  \n",
       "88312  Real Pool 3D - Poolians  2017  Free to Play  670290  \n",
       "88313                  弹炸人2222  2017          0.99  767400  \n",
       "88315    Battle Royale Trainer  2018          3.99  772540  "
      ]
     },
     "execution_count": 20,
     "metadata": {},
     "output_type": "execute_result"
    }
   ],
   "source": [
    "#Modifico el nombre de la columna con fechas para trabajar mas facil con la nomenclatura\n",
    "games_final.rename(columns={'id': 'item_id'}, inplace=True)\n",
    "\n",
    "games_final.head(5)"
   ]
  },
  {
   "cell_type": "code",
   "execution_count": 21,
   "metadata": {},
   "outputs": [],
   "source": [
    "#print(games_final.isnull().sum())\n",
    "#Elimino las filas que tienen nulos en el genero, ya que tampoco me van a servir para las funciones\n",
    "games_final.dropna(subset=['genres'], inplace=True)"
   ]
  },
  {
   "cell_type": "code",
   "execution_count": 22,
   "metadata": {},
   "outputs": [],
   "source": [
    "games_final.to_csv(\"Archivos_Comprimidos/games.csv\",index=False)"
   ]
  }
 ],
 "metadata": {
  "kernelspec": {
   "display_name": "Python 3",
   "language": "python",
   "name": "python3"
  },
  "language_info": {
   "codemirror_mode": {
    "name": "ipython",
    "version": 3
   },
   "file_extension": ".py",
   "mimetype": "text/x-python",
   "name": "python",
   "nbconvert_exporter": "python",
   "pygments_lexer": "ipython3",
   "version": "3.11.2"
  },
  "orig_nbformat": 4
 },
 "nbformat": 4,
 "nbformat_minor": 2
}
